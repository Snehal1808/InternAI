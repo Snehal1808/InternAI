{
  "nbformat": 4,
  "nbformat_minor": 0,
  "metadata": {
    "colab": {
      "provenance": []
    },
    "kernelspec": {
      "name": "python3",
      "display_name": "Python 3"
    },
    "language_info": {
      "name": "python"
    }
  },
  "cells": [
    {
      "cell_type": "code",
      "execution_count": 1,
      "metadata": {
        "id": "9g2mf6tVY3Hk"
      },
      "outputs": [],
      "source": [
        "import pandas as pd\n",
        "import numpy as np\n",
        "import ast\n",
        "import re\n",
        "from sklearn.preprocessing import LabelEncoder, StandardScaler\n",
        "from sklearn.model_selection import train_test_split\n",
        "import tensorflow as tf\n",
        "from tensorflow.keras.models import Sequential\n",
        "from tensorflow.keras.layers import Dense, InputLayer\n",
        "import joblib"
      ]
    },
    {
      "cell_type": "code",
      "source": [
        "data = pd.read_csv('/content/sample_data/internship_data.csv')"
      ],
      "metadata": {
        "id": "jwEOtZKhY9WZ"
      },
      "execution_count": 3,
      "outputs": []
    },
    {
      "cell_type": "code",
      "source": [
        "def clean_location(loc_str):\n",
        "    if pd.isna(loc_str):\n",
        "        return \"\"\n",
        "    return loc_str.strip(\"()\").replace(\"'\", \"\")\n",
        "\n",
        "def parse_duration(dur):\n",
        "    if pd.isna(dur):\n",
        "        return 0\n",
        "    match = re.search(r\"(\\d+)\", str(dur))\n",
        "    return int(match.group(1)) if match else 0\n",
        "\n",
        "def parse_stipend(stipend):\n",
        "    if pd.isna(stipend) or \"Unpaid\" in str(stipend):\n",
        "        return 0\n",
        "    nums = re.findall(r\"\\d+\", stipend.replace(\",\", \"\"))\n",
        "    if len(nums) == 1:\n",
        "        return int(nums[0])\n",
        "    elif len(nums) == 2:\n",
        "        return (int(nums[0]) + int(nums[1])) // 2\n",
        "    return 0\n",
        "\n",
        "def parse_skills(sk):\n",
        "    if pd.isna(sk):\n",
        "        return []\n",
        "    try:\n",
        "        return ast.literal_eval(sk)\n",
        "    except:\n",
        "        return [sk]"
      ],
      "metadata": {
        "id": "3rC5sASSZCbA"
      },
      "execution_count": 4,
      "outputs": []
    },
    {
      "cell_type": "code",
      "source": [
        "data[\"Location\"] = data[\"Location\"].apply(clean_location)\n",
        "data[\"Duration\"] = data[\"Duration\"].apply(parse_duration)\n",
        "data[\"Stipend\"] = data[\"Stipend\"].apply(parse_stipend)\n",
        "data[\"Skills\"] = data[\"Skills\"].apply(parse_skills)"
      ],
      "metadata": {
        "id": "z60lsUW6ZMjh"
      },
      "execution_count": 5,
      "outputs": []
    },
    {
      "cell_type": "code",
      "source": [
        "def filter_internships(df, profile):\n",
        "    df_filtered = df.copy()\n",
        "    if profile[\"location\"]:\n",
        "        pattern = \"|\".join([re.escape(loc) for loc in profile[\"location\"]])\n",
        "        df_filtered = df_filtered[df_filtered[\"Location\"].str.contains(pattern, case=False, na=False)]\n",
        "\n",
        "    def skills_match(row_skills, candidate_skills):\n",
        "        if not candidate_skills:\n",
        "            return True\n",
        "        row_skills_lower = [s.lower() for s in row_skills]\n",
        "        return any(skill.lower() in row_skills_lower for skill in candidate_skills)\n",
        "\n",
        "    df_filtered.loc[:, \"SkillsMatch\"] = df_filtered[\"Skills\"].apply(\n",
        "        lambda x: skills_match(x, profile[\"skills\"])\n",
        "    )\n",
        "    return df_filtered[df_filtered[\"SkillsMatch\"]]"
      ],
      "metadata": {
        "id": "E7maYYi7ZT20"
      },
      "execution_count": 6,
      "outputs": []
    },
    {
      "cell_type": "code",
      "source": [
        "candidate_profile = {\n",
        "    \"education\": \"Graduation\",\n",
        "    \"skills\": [\"Python\", \"Data Analysis\"],\n",
        "    \"location\": [\"Delhi\"]\n",
        "}\n",
        "\n",
        "filtered_data = filter_internships(data, candidate_profile)\n",
        "\n",
        "if \"Website Link\" not in filtered_data.columns:\n",
        "    filtered_data[\"Website Link\"] = \"\""
      ],
      "metadata": {
        "id": "SL95PGPeZWYC"
      },
      "execution_count": 8,
      "outputs": []
    },
    {
      "cell_type": "code",
      "source": [
        "le_location = LabelEncoder()\n",
        "le_company = LabelEncoder()\n",
        "\n",
        "filtered_data[\"Location_enc\"] = le_location.fit_transform(filtered_data[\"Location\"])\n",
        "filtered_data[\"Company_enc\"] = le_company.fit_transform(filtered_data[\"Company Name\"])\n",
        "\n",
        "X = filtered_data[[\"Location_enc\", \"Stipend\", \"Duration\"]]\n",
        "y = np.ones(len(X))  # Dummy labels\n",
        "\n",
        "scaler = StandardScaler()\n",
        "X = scaler.fit_transform(X)"
      ],
      "metadata": {
        "id": "MPU7YGFEZYni"
      },
      "execution_count": 9,
      "outputs": []
    },
    {
      "cell_type": "code",
      "source": [
        "model = Sequential([\n",
        "    InputLayer(shape=(X.shape[1],)),\n",
        "    Dense(64, activation=\"relu\"),\n",
        "    Dense(32, activation=\"relu\"),\n",
        "    Dense(1, activation=\"sigmoid\")\n",
        "])\n",
        "\n",
        "model.compile(optimizer=\"adam\", loss=\"binary_crossentropy\")\n",
        "model.fit(X, y, epochs=5, verbose=0)\n",
        "\n",
        "scores = model.predict(X).flatten()\n",
        "filtered_data[\"Score\"] = scores\n",
        "\n",
        "top_internships = filtered_data.sort_values(by=\"Score\", ascending=False).head(5)"
      ],
      "metadata": {
        "colab": {
          "base_uri": "https://localhost:8080/"
        },
        "id": "OaZw3o9_Zcih",
        "outputId": "11765bb4-a93b-4695-df5f-e3828558cd9a"
      },
      "execution_count": 10,
      "outputs": [
        {
          "output_type": "stream",
          "name": "stdout",
          "text": [
            "\u001b[1m1/1\u001b[0m \u001b[32m━━━━━━━━━━━━━━━━━━━━\u001b[0m\u001b[37m\u001b[0m \u001b[1m0s\u001b[0m 69ms/step\n"
          ]
        }
      ]
    },
    {
      "cell_type": "code",
      "source": [
        "for idx, row in top_internships.iterrows():\n",
        "    print(f\"Internship: {row['Role']} at {row['Company Name']} in {row['Location']}\")\n",
        "    print(f\"Stipend: ₹{row['Stipend']} - Duration: {row['Duration']} months\")\n",
        "    print(f\"Skills Required: {', '.join(row['Skills'])}\")\n",
        "    print(f\"Apply Here: {row['Website Link']}\")\n",
        "    print(\"-\" * 50)"
      ],
      "metadata": {
        "colab": {
          "base_uri": "https://localhost:8080/"
        },
        "id": "AhDwY1uzZe9q",
        "outputId": "c583b6e7-bf3d-4273-a464-205321c6701f"
      },
      "execution_count": 11,
      "outputs": [
        {
          "output_type": "stream",
          "name": "stdout",
          "text": [
            "Internship: Machine Learning Internship (Part time) at Avaari in Amritsar, Chennai, Delhi, Ghaziabad, Gurgaon, Kolkata, Pune, Bangalore, Hyderabad, Mumbai, Kochi, Jaipur, Andhra Pradesh, Karnataka,\n",
            "Stipend: ₹25000 - Duration: 2 months\n",
            "Skills Required: Data Analytics, Data Science, Deep Learning, Machine Learning, Natural Language Processing (NLP), Python, R Programming\n",
            "Apply Here: nan\n",
            "--------------------------------------------------\n",
            "Internship: Artificial Intelligence (AI) Internship (Part time) at Avaari in Ahmedabad, Chandigarh, Chennai, Coimbatore, Delhi, Guwahati, Gurgaon, Indore, Bangalore, Hyderabad, Bhopal, Kochi, Noida, Raipur, Ludhiana,\n",
            "Stipend: ₹25000 - Duration: 1 months\n",
            "Skills Required: Deep Learning, Machine Learning, Natural Language Processing (NLP), Python\n",
            "Apply Here: nan\n",
            "--------------------------------------------------\n",
            "Internship: Data Entry Internship at Bhavya Luhadia in Gurgaon, Gurgaon, Chennai, Delhi, Ghaziabad, Gurgaon, Indore, Lucknow, Patna, Pune, Udaipur, Bangalore, Hyderabad, Bhopal, Mumbai, Noida, Gwalior West, Chennai, Delhi, Ghaziabad, Gurgaon, Kolkata, Patna, Pune, Ranchi, Bangalore, Hyderabad, Bhopal, Mumbai, Noida, Nagpur, Nashik\n",
            "Stipend: ₹4000 - Duration: 1 months\n",
            "Skills Required: Data Analysis, MS-Excel\n",
            "Apply Here: https://instagram.com/Mobmistri\n",
            "--------------------------------------------------\n",
            "Internship: Artificial Intelligence (AI) Internship at Buddha Education Association Incorporation in Chennai, Coimbatore, Delhi, Gurgaon, Kolkata, Patna, Pune, Ranchi, Udaipur, Bangalore, Mumbai, Jaipur, Noida, Nagpur, Goa Velha,\n",
            "Stipend: ₹25000 - Duration: 1 months\n",
            "Skills Required: Data Structures, Natural Language Processing (NLP), Python\n",
            "Apply Here: http://www.buddhanet.net/\n",
            "--------------------------------------------------\n",
            "Internship: Full Stack Development Internship at Techvolt Software Private Limited in Coimbatore, Erode, Tirunelveli, Nagercoil, Pollachi, Kanyakumari, Namakkal, Theni, Karaikudi, Tiruppur, Salem, Tiruchipalli, Chennai, Coimbatore, Delhi, Gurgaon, Kolkata, Patna, Pune, Ranchi, Udaipur, Bangalore, Mumbai, Jaipur, Noida, Nagpur, Goa Velha\n",
            "Stipend: ₹3000 - Duration: 1 months\n",
            "Skills Required: CSS, HTML, JavaScript, MySQL, PHP, Python\n",
            "Apply Here: http://www.techvoltcoimbatore.com\n",
            "--------------------------------------------------\n"
          ]
        }
      ]
    },
    {
      "cell_type": "code",
      "source": [
        "model.save(\"internship_model.keras\")\n",
        "joblib.dump(le_location, \"le_location.pkl\")\n",
        "joblib.dump(le_company, \"le_company.pkl\")\n",
        "joblib.dump(scaler, \"scaler.pkl\")"
      ],
      "metadata": {
        "colab": {
          "base_uri": "https://localhost:8080/"
        },
        "id": "aaMoz-LTZhGG",
        "outputId": "33009cb4-9c1f-442f-a0a1-9054272bfebe"
      },
      "execution_count": 12,
      "outputs": [
        {
          "output_type": "execute_result",
          "data": {
            "text/plain": [
              "['scaler.pkl']"
            ]
          },
          "metadata": {},
          "execution_count": 12
        }
      ]
    },
    {
      "cell_type": "code",
      "source": [],
      "metadata": {
        "id": "LDD-1wHxZjLK"
      },
      "execution_count": null,
      "outputs": []
    }
  ]
}